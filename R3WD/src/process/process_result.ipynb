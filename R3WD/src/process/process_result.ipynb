{
 "cells": [
  {
   "cell_type": "code",
   "execution_count": 19,
   "metadata": {},
   "outputs": [],
   "source": [
    "import pandas as pd\n",
    "import numpy as np\n",
    "import os"
   ]
  },
  {
   "cell_type": "code",
   "execution_count": 20,
   "metadata": {},
   "outputs": [],
   "source": [
    "num_cv = 10\n",
    "num_dataset = 34"
   ]
  },
  {
   "cell_type": "code",
   "execution_count": 21,
   "metadata": {},
   "outputs": [],
   "source": [
    "res_path_func = lambda x:f'../../j48/label{x}/'\n",
    "filenames = os.listdir(\"../../distribution/clean/\")"
   ]
  },
  {
   "cell_type": "code",
   "execution_count": 22,
   "metadata": {},
   "outputs": [
    {
     "data": {
      "text/plain": [
       "['abalone-28class',\n",
       " 'artificial-characters',\n",
       " 'balance_scale',\n",
       " 'breast-tissue-6class',\n",
       " 'car',\n",
       " 'cardiotocography-10class',\n",
       " 'cmc',\n",
       " 'cnae-9',\n",
       " 'connect-4',\n",
       " 'dermatology',\n",
       " 'first-order-theorem',\n",
       " 'flare',\n",
       " 'glass',\n",
       " 'hayes-roth',\n",
       " 'heart-disease-processed-cleveland',\n",
       " 'leaf',\n",
       " 'lenses',\n",
       " 'letter',\n",
       " 'lung-cancer',\n",
       " 'micro-mass-mixed-spectra',\n",
       " 'movement-libras',\n",
       " 'robot-failure-lp3',\n",
       " 'seeds',\n",
       " 'segment',\n",
       " 'soybean-large',\n",
       " 'splice',\n",
       " 'texture',\n",
       " 'vehicle',\n",
       " 'vowel',\n",
       " 'waveform5000',\n",
       " 'wine',\n",
       " 'wpbc',\n",
       " 'yeast-4class',\n",
       " 'zoo']"
      ]
     },
     "execution_count": 22,
     "metadata": {},
     "output_type": "execute_result"
    }
   ],
   "source": [
    "list(map(lambda x:x.split('.')[0],filenames))"
   ]
  },
  {
   "cell_type": "code",
   "execution_count": 23,
   "metadata": {},
   "outputs": [],
   "source": [
    "def fname_func(fname):\n",
    "    base,_= fname.split(\".\")\n",
    "    return [f'{base}-{i}.csv' for i in range(1,num_cv+1)]\n",
    "fnames = [fname_func(f) for f in filenames]\n"
   ]
  },
  {
   "cell_type": "code",
   "execution_count": 24,
   "metadata": {},
   "outputs": [],
   "source": [
    "for noise_percentage in [10,20,30]:\n",
    "    root = res_path_func(noise_percentage)\n",
    "\n",
    "    data_acc = {k:[] for k in['dataset','csmc','cbmc','cs3wmc','MPCA']}\n",
    "    data_cost = {k:[] for k in['dataset','csmc','cbmc','cs3wmc','MPCA']}\n",
    "    data_f1 = {k:[] for k in['dataset','csmc','cbmc','cs3wmc','MPCA']}\n",
    "    for i,resfnames in enumerate(fnames):\n",
    "        fullpathes = [os.path.join(root,fname) for fname in resfnames]\n",
    "        dfs = [pd.read_csv(path) for path in fullpathes]\n",
    "        alpha35s = list(map(lambda df:df.iloc[9][[3,4,5,6]],dfs))\n",
    "        cses = list(map(lambda df:df.iloc[0][[3,4,5,6]],dfs))\n",
    "        cbs = list(map(lambda df:df.iloc[1][[3,4,5,6]],dfs))\n",
    "        mpcas = list(map(lambda df:df.iloc[2][[3,4,5,6]],dfs))\n",
    "\n",
    "        alpha35s = pd.DataFrame(alpha35s,index=range(num_cv))\n",
    "        cses = pd.DataFrame(cses,index=range(num_cv))\n",
    "        cbs = pd.DataFrame(cbs,index=range(num_cv))\n",
    "        mpcas = pd.DataFrame(mpcas,index=range(num_cv))\n",
    "\n",
    "        alpha35_mean,alpha35_std = alpha35s.apply(np.mean),alpha35s.apply(np.std)\n",
    "        cs_mean,cs_std = cses.apply(np.mean),cses.apply(np.std)\n",
    "        cb_mean,cb_std = cbs.apply(np.mean),cbs.apply(np.std)\n",
    "        mpca_mean,mpca_std = mpcas.apply(np.mean),mpcas.apply(np.std)\n",
    "\n",
    "        indices = alpha35_mean.index\n",
    "        dataset = filenames[i]\n",
    "\n",
    "\n",
    "        data_acc['dataset'].append(dataset)\n",
    "        data_acc['csmc'].append(cs_mean.loc['正确率'])\n",
    "        data_acc['cbmc'].append(cb_mean.loc['正确率'])\n",
    "        data_acc['cs3wmc'].append(alpha35_mean.loc['正确率'])\n",
    "        data_acc['MPCA'].append(mpca_mean.loc['正确率'])\n",
    "\n",
    "        data_cost['dataset'].append(dataset)\n",
    "        data_cost['csmc'].append(cs_mean.loc['平均代价'])\n",
    "        data_cost['cbmc'].append(cb_mean.loc['平均代价'])\n",
    "        data_cost['cs3wmc'].append(alpha35_mean.loc['平均代价'])\n",
    "        data_cost['MPCA'].append(mpca_mean.loc['平均代价'])\n",
    "\n",
    "        data_f1['dataset'].append(dataset)\n",
    "        data_f1['csmc'].append(cs_mean.loc['f1'])\n",
    "        data_f1['cbmc'].append(cb_mean.loc['f1'])\n",
    "        data_f1['cs3wmc'].append(alpha35_mean.loc['f1'])\n",
    "        data_f1['MPCA'].append(mpca_mean.loc['f1'])\n",
    "\n",
    "    acc_df = pd.DataFrame(data_acc)\n",
    "    cost_df = pd.DataFrame(data_cost)\n",
    "    f1_df = pd.DataFrame(data_f1)\n",
    "\n",
    "    acc_df.to_csv(f'../../result/acc_lab_noise{noise_percentage}.csv')\n",
    "    cost_df.to_csv(f'../../result/cost_lab_noise{noise_percentage}.csv')\n",
    "    f1_df.to_csv(f'../../result/f1_lab_noise{noise_percentage}.csv')\n",
    "\n",
    " \n",
    "\n",
    "\n",
    "        "
   ]
  },
  {
   "cell_type": "code",
   "execution_count": 25,
   "metadata": {},
   "outputs": [],
   "source": [
    "root = '../../j48/output2023'\n",
    "\n",
    "data_acc = {k:[] for k in['dataset','csmc','cbmc','cs3wmc','MPCA']}\n",
    "data_cost = {k:[] for k in['dataset','csmc','cbmc','cs3wmc','MPCA']}\n",
    "data_f1 = {k:[] for k in['dataset','csmc','cbmc','cs3wmc','MPCA']}\n",
    "for i,resfnames in enumerate(fnames):\n",
    "    fullpathes = [os.path.join(root,fname) for fname in resfnames]\n",
    "    dfs = [pd.read_csv(path) for path in fullpathes]\n",
    "    alpha35s = list(map(lambda df:df.iloc[9][[3,4,5,6]],dfs))\n",
    "    cses = list(map(lambda df:df.iloc[0][[3,4,5,6]],dfs))\n",
    "    cbs = list(map(lambda df:df.iloc[1][[3,4,5,6]],dfs))\n",
    "    mpcas = list(map(lambda df:df.iloc[2][[3,4,5,6]],dfs))\n",
    "\n",
    "    alpha35s = pd.DataFrame(alpha35s,index=range(num_cv))\n",
    "    cses = pd.DataFrame(cses,index=range(num_cv))\n",
    "    cbs = pd.DataFrame(cbs,index=range(num_cv))\n",
    "    mpcas = pd.DataFrame(mpcas,index=range(num_cv))\n",
    "\n",
    "    alpha35_mean,alpha35_std = alpha35s.apply(np.mean),alpha35s.apply(np.std)\n",
    "    cs_mean,cs_std = cses.apply(np.mean),cses.apply(np.std)\n",
    "    cb_mean,cb_std = cbs.apply(np.mean),cbs.apply(np.std)\n",
    "    mpca_mean,mpca_std = mpcas.apply(np.mean),mpcas.apply(np.std)\n",
    "\n",
    "    indices = alpha35_mean.index\n",
    "    dataset = filenames[i]\n",
    "\n",
    "    data_acc['dataset'].append(dataset)\n",
    "    data_acc['csmc'].append(cs_mean.loc['正确率'])\n",
    "    data_acc['cbmc'].append(cb_mean.loc['正确率'])\n",
    "    data_acc['cs3wmc'].append(alpha35_mean.loc['正确率'])\n",
    "    data_acc['MPCA'].append(mpca_mean.loc['正确率'])\n",
    "\n",
    "    data_cost['dataset'].append(dataset)\n",
    "    data_cost['csmc'].append(cs_mean.loc['平均代价'])\n",
    "    data_cost['cbmc'].append(cb_mean.loc['平均代价'])\n",
    "    data_cost['cs3wmc'].append(alpha35_mean.loc['平均代价'])\n",
    "    data_cost['MPCA'].append(mpca_mean.loc['平均代价'])\n",
    "\n",
    "    data_f1['dataset'].append(dataset)\n",
    "    data_f1['csmc'].append(cs_mean.loc['f1'])\n",
    "    data_f1['cbmc'].append(cb_mean.loc['f1'])\n",
    "    data_f1['cs3wmc'].append(alpha35_mean.loc['f1'])\n",
    "    data_f1['MPCA'].append(mpca_mean.loc['f1'])\n",
    "\n",
    "acc_df = pd.DataFrame(data_acc)\n",
    "cost_df = pd.DataFrame(data_cost)\n",
    "f1_df = pd.DataFrame(data_f1)\n",
    "\n",
    "acc_df.to_csv(f'../../result/acc_clean.csv')\n",
    "cost_df.to_csv(f'../../result/cost_clean.csv')\n",
    "f1_df.to_csv(f'../../result/f1_clean.csv')"
   ]
  },
  {
   "cell_type": "code",
   "execution_count": null,
   "metadata": {},
   "outputs": [],
   "source": []
  }
 ],
 "metadata": {
  "kernelspec": {
   "display_name": "Python 3",
   "language": "python",
   "name": "python3"
  },
  "language_info": {
   "codemirror_mode": {
    "name": "ipython",
    "version": 3
   },
   "file_extension": ".py",
   "mimetype": "text/x-python",
   "name": "python",
   "nbconvert_exporter": "python",
   "pygments_lexer": "ipython3",
   "version": "3.9.15"
  }
 },
 "nbformat": 4,
 "nbformat_minor": 2
}

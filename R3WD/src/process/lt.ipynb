{
 "cells": [
  {
   "cell_type": "code",
   "execution_count": 3,
   "metadata": {},
   "outputs": [],
   "source": [
    "import pandas as pd"
   ]
  },
  {
   "cell_type": "code",
   "execution_count": 120,
   "metadata": {},
   "outputs": [],
   "source": [
    "mpca_root = './MPCA/csv/'\n",
    "mcknn_root = './mkcnn/mckNN/mckNN/output2023/'\n",
    "cs3w_root = './CS3WMC/output2023/'\n",
    "cb_root = \"./cb/\"\n",
    "cs_root = './cs/'\n",
    "cs3wd_root = './cs3wd/'\n"
   ]
  },
  {
   "cell_type": "code",
   "execution_count": 38,
   "metadata": {},
   "outputs": [],
   "source": [
    "filenames = ['balance-scale','car','cmc','connect-4','letter','segment','splice','vehicle','vowel','waveform']"
   ]
  },
  {
   "cell_type": "code",
   "execution_count": 122,
   "metadata": {},
   "outputs": [],
   "source": [
    "for f in filenames:\n",
    "    css = [0]*10\n",
    "    cbs = [0]*10\n",
    "    tws = [0]*10\n",
    "\n",
    "    for cv in range(10):\n",
    "        df = pd.read_csv(f\"{cs3w_root}{f}-{cv+1}.csv\").iloc[:,:6]\n",
    "        df = df.iloc[[0,1,8],1:]\n",
    "        cs,cb,cs3w,=df.iloc[0],df.iloc[1],df.iloc[2]\n",
    "        css[cv] = cs[1:]\n",
    "        cbs[cv] = cb[1:]\n",
    "        tws[cv] = cs3w[1:]\n",
    "    pd.DataFrame(css,index=range(10)).to_csv(f\"{cs_root}{f}.csv\")\n",
    "    pd.DataFrame(cbs,index=range(10)).to_csv(f\"{cb_root}{f}.csv\")\n",
    "    pd.DataFrame(tws,index=range(10)).to_csv(f\"{cs3wd_root}{f}.csv\")\n",
    "    # break"
   ]
  },
  {
   "cell_type": "code",
   "execution_count": 43,
   "metadata": {},
   "outputs": [],
   "source": [
    "df_pca = pd.read_csv(f\"{mpca_root}{f}.csv\")\n",
    "df_mcknn = pd.read_csv(f\"{mcknn_root}{f}.csv\")"
   ]
  },
  {
   "cell_type": "code",
   "execution_count": 107,
   "metadata": {},
   "outputs": [],
   "source": [
    "cs,cb,cs3w,=df.iloc[0],df.iloc[1],df.iloc[2]"
   ]
  },
  {
   "cell_type": "code",
   "execution_count": 117,
   "metadata": {},
   "outputs": [
    {
     "data": {
      "text/html": [
       "<div>\n",
       "<style scoped>\n",
       "    .dataframe tbody tr th:only-of-type {\n",
       "        vertical-align: middle;\n",
       "    }\n",
       "\n",
       "    .dataframe tbody tr th {\n",
       "        vertical-align: top;\n",
       "    }\n",
       "\n",
       "    .dataframe thead th {\n",
       "        text-align: right;\n",
       "    }\n",
       "</style>\n",
       "<table border=\"1\" class=\"dataframe\">\n",
       "  <thead>\n",
       "    <tr style=\"text-align: right;\">\n",
       "      <th></th>\n",
       "      <th>决策总代价</th>\n",
       "      <th>综合错误率</th>\n",
       "      <th>正确率</th>\n",
       "      <th>f1</th>\n",
       "    </tr>\n",
       "  </thead>\n",
       "  <tbody>\n",
       "    <tr>\n",
       "      <th>0</th>\n",
       "      <td>83.915861</td>\n",
       "      <td>0.206349</td>\n",
       "      <td>0.793651</td>\n",
       "      <td>0.555853</td>\n",
       "    </tr>\n",
       "    <tr>\n",
       "      <th>1</th>\n",
       "      <td>87.659880</td>\n",
       "      <td>0.222222</td>\n",
       "      <td>0.777778</td>\n",
       "      <td>0.544550</td>\n",
       "    </tr>\n",
       "    <tr>\n",
       "      <th>2</th>\n",
       "      <td>70.973600</td>\n",
       "      <td>0.174603</td>\n",
       "      <td>0.825397</td>\n",
       "      <td>0.589420</td>\n",
       "    </tr>\n",
       "    <tr>\n",
       "      <th>3</th>\n",
       "      <td>62.542913</td>\n",
       "      <td>0.174603</td>\n",
       "      <td>0.825397</td>\n",
       "      <td>0.573076</td>\n",
       "    </tr>\n",
       "    <tr>\n",
       "      <th>4</th>\n",
       "      <td>106.740135</td>\n",
       "      <td>0.269841</td>\n",
       "      <td>0.730159</td>\n",
       "      <td>0.533349</td>\n",
       "    </tr>\n",
       "    <tr>\n",
       "      <th>5</th>\n",
       "      <td>66.317315</td>\n",
       "      <td>0.209677</td>\n",
       "      <td>0.790323</td>\n",
       "      <td>0.549188</td>\n",
       "    </tr>\n",
       "    <tr>\n",
       "      <th>6</th>\n",
       "      <td>83.720551</td>\n",
       "      <td>0.241935</td>\n",
       "      <td>0.758065</td>\n",
       "      <td>0.531224</td>\n",
       "    </tr>\n",
       "    <tr>\n",
       "      <th>7</th>\n",
       "      <td>78.031108</td>\n",
       "      <td>0.209677</td>\n",
       "      <td>0.790323</td>\n",
       "      <td>0.562789</td>\n",
       "    </tr>\n",
       "    <tr>\n",
       "      <th>8</th>\n",
       "      <td>108.387402</td>\n",
       "      <td>0.241935</td>\n",
       "      <td>0.758065</td>\n",
       "      <td>0.534283</td>\n",
       "    </tr>\n",
       "    <tr>\n",
       "      <th>9</th>\n",
       "      <td>58.451627</td>\n",
       "      <td>0.193548</td>\n",
       "      <td>0.806452</td>\n",
       "      <td>0.577503</td>\n",
       "    </tr>\n",
       "  </tbody>\n",
       "</table>\n",
       "</div>"
      ],
      "text/plain": [
       "        决策总代价     综合错误率       正确率        f1\n",
       "0   83.915861  0.206349  0.793651  0.555853\n",
       "1   87.659880  0.222222  0.777778  0.544550\n",
       "2   70.973600  0.174603  0.825397  0.589420\n",
       "3   62.542913  0.174603  0.825397  0.573076\n",
       "4  106.740135  0.269841  0.730159  0.533349\n",
       "5   66.317315  0.209677  0.790323  0.549188\n",
       "6   83.720551  0.241935  0.758065  0.531224\n",
       "7   78.031108  0.209677  0.790323  0.562789\n",
       "8  108.387402  0.241935  0.758065  0.534283\n",
       "9   58.451627  0.193548  0.806452  0.577503"
      ]
     },
     "execution_count": 117,
     "metadata": {},
     "output_type": "execute_result"
    }
   ],
   "source": [
    "pd.DataFrame(css,index=range(10))"
   ]
  },
  {
   "cell_type": "code",
   "execution_count": 62,
   "metadata": {},
   "outputs": [
    {
     "data": {
      "text/plain": [
       "10"
      ]
     },
     "execution_count": 62,
     "metadata": {},
     "output_type": "execute_result"
    }
   ],
   "source": [
    "len(['alpha', '确定性判断的错误率', '决策总代价', '综合错误率', '正确率', 'f1', '边界域错误率','边界域首选项错误率', '边界域次选项错误率', '边界域比例'])"
   ]
  },
  {
   "cell_type": "code",
   "execution_count": 72,
   "metadata": {},
   "outputs": [],
   "source": [
    "a =([False]*9)"
   ]
  },
  {
   "cell_type": "code",
   "execution_count": 73,
   "metadata": {},
   "outputs": [],
   "source": [
    "a.append(True)"
   ]
  },
  {
   "cell_type": "code",
   "execution_count": 85,
   "metadata": {},
   "outputs": [
    {
     "data": {
      "text/plain": [
       "决策总代价    72.755184\n",
       "综合错误率     0.387263\n",
       "正确率       0.612737\n",
       "F1分数      0.460166\n",
       "dtype: float64"
      ]
     },
     "execution_count": 85,
     "metadata": {},
     "output_type": "execute_result"
    }
   ],
   "source": [
    "df_pca.iloc[:,1:].mean()"
   ]
  },
  {
   "cell_type": "code",
   "execution_count": null,
   "metadata": {},
   "outputs": [],
   "source": []
  }
 ],
 "metadata": {
  "kernelspec": {
   "display_name": "Python 3",
   "language": "python",
   "name": "python3"
  },
  "language_info": {
   "codemirror_mode": {
    "name": "ipython",
    "version": 3
   },
   "file_extension": ".py",
   "mimetype": "text/x-python",
   "name": "python",
   "nbconvert_exporter": "python",
   "pygments_lexer": "ipython3",
   "version": "3.8.18"
  }
 },
 "nbformat": 4,
 "nbformat_minor": 2
}
